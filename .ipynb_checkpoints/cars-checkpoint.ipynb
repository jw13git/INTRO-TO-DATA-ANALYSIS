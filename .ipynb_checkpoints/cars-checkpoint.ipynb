{
 "cells": [
  {
   "cell_type": "markdown",
   "metadata": {},
   "source": [
    "(This notebook is based off Zach Alexander's, with some minor modifications.)"
   ]
  },
  {
   "cell_type": "code",
   "execution_count": 1,
   "metadata": {},
   "outputs": [],
   "source": [
    "import numpy as np\n",
    "import pandas as pd\n",
    "import matplotlib.pyplot as plt"
   ]
  },
  {
   "cell_type": "markdown",
   "metadata": {},
   "source": [
    "## Exploratory Data Analysis"
   ]
  },
  {
   "cell_type": "code",
   "execution_count": 2,
   "metadata": {},
   "outputs": [],
   "source": [
    "cars = pd.read_csv('C:/Users/Jing/Desktop/INTRO-TO-DATA-ANALYSIS/INTRO-TO-DATA-ANALYSIS/DATA/cars_multivariate.csv')"
   ]
  },
  {
   "cell_type": "markdown",
   "metadata": {},
   "source": [
    "You just received a bunch of data... what's your first move?\n",
    "\n",
    "Start with a very high level overview\n",
    "- What do the first few rows look like?\n",
    "- What feature does each column denote?\n",
    "- Which features are categorical and what is the distribution for the categorical levels?\n",
    "- Which features are continuous and how would I characterize the distribution?\n",
    "- Are there any missing values?\n",
    "- What is the target denote? What is the target's distribution look like?\n",
    "- How does the features relate to one another?\n",
    "- How does each feature relate to the target?"
   ]
  },
  {
   "cell_type": "code",
   "execution_count": 4,
   "metadata": {},
   "outputs": [
    {
     "data": {
      "text/plain": [
       "(398, 9)"
      ]
     },
     "execution_count": 4,
     "metadata": {},
     "output_type": "execute_result"
    }
   ],
   "source": [
    "cars.shape"
   ]
  },
  {
   "cell_type": "code",
   "execution_count": 5,
   "metadata": {},
   "outputs": [
    {
     "data": {
      "text/html": [
       "<div>\n",
       "<style scoped>\n",
       "    .dataframe tbody tr th:only-of-type {\n",
       "        vertical-align: middle;\n",
       "    }\n",
       "\n",
       "    .dataframe tbody tr th {\n",
       "        vertical-align: top;\n",
       "    }\n",
       "\n",
       "    .dataframe thead th {\n",
       "        text-align: right;\n",
       "    }\n",
       "</style>\n",
       "<table border=\"1\" class=\"dataframe\">\n",
       "  <thead>\n",
       "    <tr style=\"text-align: right;\">\n",
       "      <th></th>\n",
       "      <th>mpg</th>\n",
       "      <th>cylinders</th>\n",
       "      <th>displacement</th>\n",
       "      <th>horsepower</th>\n",
       "      <th>weight</th>\n",
       "      <th>acceleration</th>\n",
       "      <th>model</th>\n",
       "      <th>origin</th>\n",
       "      <th>car_name</th>\n",
       "    </tr>\n",
       "  </thead>\n",
       "  <tbody>\n",
       "    <tr>\n",
       "      <th>0</th>\n",
       "      <td>18.0</td>\n",
       "      <td>8</td>\n",
       "      <td>307.0</td>\n",
       "      <td>130.0</td>\n",
       "      <td>3504.0</td>\n",
       "      <td>12.0</td>\n",
       "      <td>70</td>\n",
       "      <td>1</td>\n",
       "      <td>chevrolet chevelle malibu</td>\n",
       "    </tr>\n",
       "    <tr>\n",
       "      <th>1</th>\n",
       "      <td>15.0</td>\n",
       "      <td>8</td>\n",
       "      <td>350.0</td>\n",
       "      <td>165.0</td>\n",
       "      <td>3693.0</td>\n",
       "      <td>11.5</td>\n",
       "      <td>70</td>\n",
       "      <td>1</td>\n",
       "      <td>buick skylark 320</td>\n",
       "    </tr>\n",
       "    <tr>\n",
       "      <th>2</th>\n",
       "      <td>18.0</td>\n",
       "      <td>8</td>\n",
       "      <td>318.0</td>\n",
       "      <td>150.0</td>\n",
       "      <td>3436.0</td>\n",
       "      <td>11.0</td>\n",
       "      <td>70</td>\n",
       "      <td>1</td>\n",
       "      <td>plymouth satellite</td>\n",
       "    </tr>\n",
       "    <tr>\n",
       "      <th>3</th>\n",
       "      <td>16.0</td>\n",
       "      <td>8</td>\n",
       "      <td>304.0</td>\n",
       "      <td>150.0</td>\n",
       "      <td>3433.0</td>\n",
       "      <td>12.0</td>\n",
       "      <td>70</td>\n",
       "      <td>1</td>\n",
       "      <td>amc rebel sst</td>\n",
       "    </tr>\n",
       "    <tr>\n",
       "      <th>4</th>\n",
       "      <td>17.0</td>\n",
       "      <td>8</td>\n",
       "      <td>302.0</td>\n",
       "      <td>140.0</td>\n",
       "      <td>3449.0</td>\n",
       "      <td>10.5</td>\n",
       "      <td>70</td>\n",
       "      <td>1</td>\n",
       "      <td>ford torino</td>\n",
       "    </tr>\n",
       "    <tr>\n",
       "      <th>5</th>\n",
       "      <td>15.0</td>\n",
       "      <td>8</td>\n",
       "      <td>429.0</td>\n",
       "      <td>198.0</td>\n",
       "      <td>4341.0</td>\n",
       "      <td>10.0</td>\n",
       "      <td>70</td>\n",
       "      <td>1</td>\n",
       "      <td>ford galaxie 500</td>\n",
       "    </tr>\n",
       "    <tr>\n",
       "      <th>6</th>\n",
       "      <td>14.0</td>\n",
       "      <td>8</td>\n",
       "      <td>454.0</td>\n",
       "      <td>220.0</td>\n",
       "      <td>4354.0</td>\n",
       "      <td>9.0</td>\n",
       "      <td>70</td>\n",
       "      <td>1</td>\n",
       "      <td>chevrolet impala</td>\n",
       "    </tr>\n",
       "    <tr>\n",
       "      <th>7</th>\n",
       "      <td>14.0</td>\n",
       "      <td>8</td>\n",
       "      <td>440.0</td>\n",
       "      <td>215.0</td>\n",
       "      <td>4312.0</td>\n",
       "      <td>8.5</td>\n",
       "      <td>70</td>\n",
       "      <td>1</td>\n",
       "      <td>plymouth fury iii</td>\n",
       "    </tr>\n",
       "    <tr>\n",
       "      <th>8</th>\n",
       "      <td>14.0</td>\n",
       "      <td>8</td>\n",
       "      <td>455.0</td>\n",
       "      <td>225.0</td>\n",
       "      <td>4425.0</td>\n",
       "      <td>10.0</td>\n",
       "      <td>70</td>\n",
       "      <td>1</td>\n",
       "      <td>pontiac catalina</td>\n",
       "    </tr>\n",
       "    <tr>\n",
       "      <th>9</th>\n",
       "      <td>15.0</td>\n",
       "      <td>8</td>\n",
       "      <td>390.0</td>\n",
       "      <td>190.0</td>\n",
       "      <td>3850.0</td>\n",
       "      <td>8.5</td>\n",
       "      <td>70</td>\n",
       "      <td>1</td>\n",
       "      <td>amc ambassador dpl</td>\n",
       "    </tr>\n",
       "  </tbody>\n",
       "</table>\n",
       "</div>"
      ],
      "text/plain": [
       "    mpg  cylinders  displacement horsepower  weight  acceleration  model  \\\n",
       "0  18.0          8         307.0      130.0  3504.0          12.0     70   \n",
       "1  15.0          8         350.0      165.0  3693.0          11.5     70   \n",
       "2  18.0          8         318.0      150.0  3436.0          11.0     70   \n",
       "3  16.0          8         304.0      150.0  3433.0          12.0     70   \n",
       "4  17.0          8         302.0      140.0  3449.0          10.5     70   \n",
       "5  15.0          8         429.0      198.0  4341.0          10.0     70   \n",
       "6  14.0          8         454.0      220.0  4354.0           9.0     70   \n",
       "7  14.0          8         440.0      215.0  4312.0           8.5     70   \n",
       "8  14.0          8         455.0      225.0  4425.0          10.0     70   \n",
       "9  15.0          8         390.0      190.0  3850.0           8.5     70   \n",
       "\n",
       "   origin                   car_name  \n",
       "0       1  chevrolet chevelle malibu  \n",
       "1       1          buick skylark 320  \n",
       "2       1         plymouth satellite  \n",
       "3       1              amc rebel sst  \n",
       "4       1                ford torino  \n",
       "5       1           ford galaxie 500  \n",
       "6       1           chevrolet impala  \n",
       "7       1          plymouth fury iii  \n",
       "8       1           pontiac catalina  \n",
       "9       1         amc ambassador dpl  "
      ]
     },
     "execution_count": 5,
     "metadata": {},
     "output_type": "execute_result"
    }
   ],
   "source": [
    "cars.head(10)"
   ]
  },
  {
   "cell_type": "code",
   "execution_count": 6,
   "metadata": {},
   "outputs": [
    {
     "data": {
      "text/html": [
       "<div>\n",
       "<style scoped>\n",
       "    .dataframe tbody tr th:only-of-type {\n",
       "        vertical-align: middle;\n",
       "    }\n",
       "\n",
       "    .dataframe tbody tr th {\n",
       "        vertical-align: top;\n",
       "    }\n",
       "\n",
       "    .dataframe thead th {\n",
       "        text-align: right;\n",
       "    }\n",
       "</style>\n",
       "<table border=\"1\" class=\"dataframe\">\n",
       "  <thead>\n",
       "    <tr style=\"text-align: right;\">\n",
       "      <th></th>\n",
       "      <th>mpg</th>\n",
       "      <th>cylinders</th>\n",
       "      <th>displacement</th>\n",
       "      <th>horsepower</th>\n",
       "      <th>weight</th>\n",
       "      <th>acceleration</th>\n",
       "      <th>model</th>\n",
       "      <th>origin</th>\n",
       "      <th>car_name</th>\n",
       "    </tr>\n",
       "  </thead>\n",
       "  <tbody>\n",
       "    <tr>\n",
       "      <th>393</th>\n",
       "      <td>27.0</td>\n",
       "      <td>4</td>\n",
       "      <td>140.0</td>\n",
       "      <td>86.00</td>\n",
       "      <td>2790.0</td>\n",
       "      <td>15.6</td>\n",
       "      <td>82</td>\n",
       "      <td>1</td>\n",
       "      <td>ford mustang gl</td>\n",
       "    </tr>\n",
       "    <tr>\n",
       "      <th>394</th>\n",
       "      <td>44.0</td>\n",
       "      <td>4</td>\n",
       "      <td>97.0</td>\n",
       "      <td>52.00</td>\n",
       "      <td>2130.0</td>\n",
       "      <td>24.6</td>\n",
       "      <td>82</td>\n",
       "      <td>2</td>\n",
       "      <td>vw pickup</td>\n",
       "    </tr>\n",
       "    <tr>\n",
       "      <th>395</th>\n",
       "      <td>32.0</td>\n",
       "      <td>4</td>\n",
       "      <td>135.0</td>\n",
       "      <td>84.00</td>\n",
       "      <td>2295.0</td>\n",
       "      <td>11.6</td>\n",
       "      <td>82</td>\n",
       "      <td>1</td>\n",
       "      <td>dodge rampage</td>\n",
       "    </tr>\n",
       "    <tr>\n",
       "      <th>396</th>\n",
       "      <td>28.0</td>\n",
       "      <td>4</td>\n",
       "      <td>120.0</td>\n",
       "      <td>79.00</td>\n",
       "      <td>2625.0</td>\n",
       "      <td>18.6</td>\n",
       "      <td>82</td>\n",
       "      <td>1</td>\n",
       "      <td>ford ranger</td>\n",
       "    </tr>\n",
       "    <tr>\n",
       "      <th>397</th>\n",
       "      <td>31.0</td>\n",
       "      <td>4</td>\n",
       "      <td>119.0</td>\n",
       "      <td>82.00</td>\n",
       "      <td>2720.0</td>\n",
       "      <td>19.4</td>\n",
       "      <td>82</td>\n",
       "      <td>1</td>\n",
       "      <td>chevy s-10</td>\n",
       "    </tr>\n",
       "  </tbody>\n",
       "</table>\n",
       "</div>"
      ],
      "text/plain": [
       "      mpg  cylinders  displacement horsepower  weight  acceleration  model  \\\n",
       "393  27.0          4         140.0      86.00  2790.0          15.6     82   \n",
       "394  44.0          4          97.0      52.00  2130.0          24.6     82   \n",
       "395  32.0          4         135.0      84.00  2295.0          11.6     82   \n",
       "396  28.0          4         120.0      79.00  2625.0          18.6     82   \n",
       "397  31.0          4         119.0      82.00  2720.0          19.4     82   \n",
       "\n",
       "     origin         car_name  \n",
       "393       1  ford mustang gl  \n",
       "394       2        vw pickup  \n",
       "395       1    dodge rampage  \n",
       "396       1      ford ranger  \n",
       "397       1       chevy s-10  "
      ]
     },
     "execution_count": 6,
     "metadata": {},
     "output_type": "execute_result"
    }
   ],
   "source": [
    "cars.tail()"
   ]
  },
  {
   "cell_type": "code",
   "execution_count": 7,
   "metadata": {},
   "outputs": [
    {
     "data": {
      "text/html": [
       "<div>\n",
       "<style scoped>\n",
       "    .dataframe tbody tr th:only-of-type {\n",
       "        vertical-align: middle;\n",
       "    }\n",
       "\n",
       "    .dataframe tbody tr th {\n",
       "        vertical-align: top;\n",
       "    }\n",
       "\n",
       "    .dataframe thead th {\n",
       "        text-align: right;\n",
       "    }\n",
       "</style>\n",
       "<table border=\"1\" class=\"dataframe\">\n",
       "  <thead>\n",
       "    <tr style=\"text-align: right;\">\n",
       "      <th></th>\n",
       "      <th>mpg</th>\n",
       "      <th>cylinders</th>\n",
       "      <th>displacement</th>\n",
       "      <th>weight</th>\n",
       "      <th>acceleration</th>\n",
       "      <th>model</th>\n",
       "      <th>origin</th>\n",
       "    </tr>\n",
       "  </thead>\n",
       "  <tbody>\n",
       "    <tr>\n",
       "      <th>count</th>\n",
       "      <td>398.000000</td>\n",
       "      <td>398.000000</td>\n",
       "      <td>398.000000</td>\n",
       "      <td>398.000000</td>\n",
       "      <td>398.000000</td>\n",
       "      <td>398.000000</td>\n",
       "      <td>398.000000</td>\n",
       "    </tr>\n",
       "    <tr>\n",
       "      <th>mean</th>\n",
       "      <td>23.514573</td>\n",
       "      <td>5.454774</td>\n",
       "      <td>193.425879</td>\n",
       "      <td>2970.424623</td>\n",
       "      <td>15.568090</td>\n",
       "      <td>76.010050</td>\n",
       "      <td>1.572864</td>\n",
       "    </tr>\n",
       "    <tr>\n",
       "      <th>std</th>\n",
       "      <td>7.815984</td>\n",
       "      <td>1.701004</td>\n",
       "      <td>104.269838</td>\n",
       "      <td>846.841774</td>\n",
       "      <td>2.757689</td>\n",
       "      <td>3.697627</td>\n",
       "      <td>0.802055</td>\n",
       "    </tr>\n",
       "    <tr>\n",
       "      <th>min</th>\n",
       "      <td>9.000000</td>\n",
       "      <td>3.000000</td>\n",
       "      <td>68.000000</td>\n",
       "      <td>1613.000000</td>\n",
       "      <td>8.000000</td>\n",
       "      <td>70.000000</td>\n",
       "      <td>1.000000</td>\n",
       "    </tr>\n",
       "    <tr>\n",
       "      <th>25%</th>\n",
       "      <td>17.500000</td>\n",
       "      <td>4.000000</td>\n",
       "      <td>104.250000</td>\n",
       "      <td>2223.750000</td>\n",
       "      <td>13.825000</td>\n",
       "      <td>73.000000</td>\n",
       "      <td>1.000000</td>\n",
       "    </tr>\n",
       "    <tr>\n",
       "      <th>50%</th>\n",
       "      <td>23.000000</td>\n",
       "      <td>4.000000</td>\n",
       "      <td>148.500000</td>\n",
       "      <td>2803.500000</td>\n",
       "      <td>15.500000</td>\n",
       "      <td>76.000000</td>\n",
       "      <td>1.000000</td>\n",
       "    </tr>\n",
       "    <tr>\n",
       "      <th>75%</th>\n",
       "      <td>29.000000</td>\n",
       "      <td>8.000000</td>\n",
       "      <td>262.000000</td>\n",
       "      <td>3608.000000</td>\n",
       "      <td>17.175000</td>\n",
       "      <td>79.000000</td>\n",
       "      <td>2.000000</td>\n",
       "    </tr>\n",
       "    <tr>\n",
       "      <th>max</th>\n",
       "      <td>46.600000</td>\n",
       "      <td>8.000000</td>\n",
       "      <td>455.000000</td>\n",
       "      <td>5140.000000</td>\n",
       "      <td>24.800000</td>\n",
       "      <td>82.000000</td>\n",
       "      <td>3.000000</td>\n",
       "    </tr>\n",
       "  </tbody>\n",
       "</table>\n",
       "</div>"
      ],
      "text/plain": [
       "              mpg   cylinders  displacement       weight  acceleration  \\\n",
       "count  398.000000  398.000000    398.000000   398.000000    398.000000   \n",
       "mean    23.514573    5.454774    193.425879  2970.424623     15.568090   \n",
       "std      7.815984    1.701004    104.269838   846.841774      2.757689   \n",
       "min      9.000000    3.000000     68.000000  1613.000000      8.000000   \n",
       "25%     17.500000    4.000000    104.250000  2223.750000     13.825000   \n",
       "50%     23.000000    4.000000    148.500000  2803.500000     15.500000   \n",
       "75%     29.000000    8.000000    262.000000  3608.000000     17.175000   \n",
       "max     46.600000    8.000000    455.000000  5140.000000     24.800000   \n",
       "\n",
       "            model      origin  \n",
       "count  398.000000  398.000000  \n",
       "mean    76.010050    1.572864  \n",
       "std      3.697627    0.802055  \n",
       "min     70.000000    1.000000  \n",
       "25%     73.000000    1.000000  \n",
       "50%     76.000000    1.000000  \n",
       "75%     79.000000    2.000000  \n",
       "max     82.000000    3.000000  "
      ]
     },
     "execution_count": 7,
     "metadata": {},
     "output_type": "execute_result"
    }
   ],
   "source": [
    "cars.describe()"
   ]
  },
  {
   "cell_type": "code",
   "execution_count": 8,
   "metadata": {
    "scrolled": true
   },
   "outputs": [
    {
     "name": "stdout",
     "output_type": "stream",
     "text": [
      "<class 'pandas.core.frame.DataFrame'>\n",
      "RangeIndex: 398 entries, 0 to 397\n",
      "Data columns (total 9 columns):\n",
      " #   Column        Non-Null Count  Dtype  \n",
      "---  ------        --------------  -----  \n",
      " 0   mpg           398 non-null    float64\n",
      " 1   cylinders     398 non-null    int64  \n",
      " 2   displacement  398 non-null    float64\n",
      " 3   horsepower    398 non-null    object \n",
      " 4   weight        398 non-null    float64\n",
      " 5   acceleration  398 non-null    float64\n",
      " 6   model         398 non-null    int64  \n",
      " 7   origin        398 non-null    int64  \n",
      " 8   car_name      398 non-null    object \n",
      "dtypes: float64(4), int64(3), object(2)\n",
      "memory usage: 28.1+ KB\n"
     ]
    }
   ],
   "source": [
    "cars.info()"
   ]
  },
  {
   "cell_type": "markdown",
   "metadata": {},
   "source": [
    "Do the variable types make sense? Notice that HP has variable type 'object' - this doesn't seem right."
   ]
  },
  {
   "cell_type": "code",
   "execution_count": 9,
   "metadata": {},
   "outputs": [
    {
     "data": {
      "text/plain": [
       "393    86.00\n",
       "394    52.00\n",
       "395    84.00\n",
       "396    79.00\n",
       "397    82.00\n",
       "Name: horsepower, dtype: object"
      ]
     },
     "execution_count": 9,
     "metadata": {},
     "output_type": "execute_result"
    }
   ],
   "source": [
    "cars['horsepower'].tail()"
   ]
  },
  {
   "cell_type": "markdown",
   "metadata": {},
   "source": [
    "All the values that we can see look like numbers. If they were all numbers, Pandas should have figured out the correct data type---there must be a weird value in there somewhere"
   ]
  },
  {
   "cell_type": "code",
   "execution_count": 10,
   "metadata": {},
   "outputs": [
    {
     "data": {
      "text/plain": [
       "0      130.0\n",
       "1      165.0\n",
       "2      150.0\n",
       "3      150.0\n",
       "4      140.0\n",
       "       ...  \n",
       "393     86.0\n",
       "394     52.0\n",
       "395     84.0\n",
       "396     79.0\n",
       "397     82.0\n",
       "Name: horsepower, Length: 398, dtype: float64"
      ]
     },
     "execution_count": 10,
     "metadata": {},
     "output_type": "execute_result"
    }
   ],
   "source": [
    "# Force convert horsepower to numeric\n",
    "conv = pd.to_numeric(cars['horsepower'], 'coerce')\n",
    "conv # making a new column called conv to change horsepower --> numeric"
   ]
  },
  {
   "cell_type": "code",
   "execution_count": 11,
   "metadata": {},
   "outputs": [
    {
     "data": {
      "text/html": [
       "<div>\n",
       "<style scoped>\n",
       "    .dataframe tbody tr th:only-of-type {\n",
       "        vertical-align: middle;\n",
       "    }\n",
       "\n",
       "    .dataframe tbody tr th {\n",
       "        vertical-align: top;\n",
       "    }\n",
       "\n",
       "    .dataframe thead th {\n",
       "        text-align: right;\n",
       "    }\n",
       "</style>\n",
       "<table border=\"1\" class=\"dataframe\">\n",
       "  <thead>\n",
       "    <tr style=\"text-align: right;\">\n",
       "      <th></th>\n",
       "      <th>mpg</th>\n",
       "      <th>cylinders</th>\n",
       "      <th>displacement</th>\n",
       "      <th>horsepower</th>\n",
       "      <th>weight</th>\n",
       "      <th>acceleration</th>\n",
       "      <th>model</th>\n",
       "      <th>origin</th>\n",
       "      <th>car_name</th>\n",
       "    </tr>\n",
       "  </thead>\n",
       "  <tbody>\n",
       "    <tr>\n",
       "      <th>32</th>\n",
       "      <td>25.0</td>\n",
       "      <td>4</td>\n",
       "      <td>98.0</td>\n",
       "      <td>?</td>\n",
       "      <td>2046.0</td>\n",
       "      <td>19.0</td>\n",
       "      <td>71</td>\n",
       "      <td>1</td>\n",
       "      <td>ford pinto</td>\n",
       "    </tr>\n",
       "    <tr>\n",
       "      <th>126</th>\n",
       "      <td>21.0</td>\n",
       "      <td>6</td>\n",
       "      <td>200.0</td>\n",
       "      <td>?</td>\n",
       "      <td>2875.0</td>\n",
       "      <td>17.0</td>\n",
       "      <td>74</td>\n",
       "      <td>1</td>\n",
       "      <td>ford maverick</td>\n",
       "    </tr>\n",
       "    <tr>\n",
       "      <th>330</th>\n",
       "      <td>40.9</td>\n",
       "      <td>4</td>\n",
       "      <td>85.0</td>\n",
       "      <td>?</td>\n",
       "      <td>1835.0</td>\n",
       "      <td>17.3</td>\n",
       "      <td>80</td>\n",
       "      <td>2</td>\n",
       "      <td>renault lecar deluxe</td>\n",
       "    </tr>\n",
       "    <tr>\n",
       "      <th>336</th>\n",
       "      <td>23.6</td>\n",
       "      <td>4</td>\n",
       "      <td>140.0</td>\n",
       "      <td>?</td>\n",
       "      <td>2905.0</td>\n",
       "      <td>14.3</td>\n",
       "      <td>80</td>\n",
       "      <td>1</td>\n",
       "      <td>ford mustang cobra</td>\n",
       "    </tr>\n",
       "    <tr>\n",
       "      <th>354</th>\n",
       "      <td>34.5</td>\n",
       "      <td>4</td>\n",
       "      <td>100.0</td>\n",
       "      <td>?</td>\n",
       "      <td>2320.0</td>\n",
       "      <td>15.8</td>\n",
       "      <td>81</td>\n",
       "      <td>2</td>\n",
       "      <td>renault 18i</td>\n",
       "    </tr>\n",
       "    <tr>\n",
       "      <th>374</th>\n",
       "      <td>23.0</td>\n",
       "      <td>4</td>\n",
       "      <td>151.0</td>\n",
       "      <td>?</td>\n",
       "      <td>3035.0</td>\n",
       "      <td>20.5</td>\n",
       "      <td>82</td>\n",
       "      <td>1</td>\n",
       "      <td>amc concord dl</td>\n",
       "    </tr>\n",
       "  </tbody>\n",
       "</table>\n",
       "</div>"
      ],
      "text/plain": [
       "      mpg  cylinders  displacement horsepower  weight  acceleration  model  \\\n",
       "32   25.0          4          98.0          ?  2046.0          19.0     71   \n",
       "126  21.0          6         200.0          ?  2875.0          17.0     74   \n",
       "330  40.9          4          85.0          ?  1835.0          17.3     80   \n",
       "336  23.6          4         140.0          ?  2905.0          14.3     80   \n",
       "354  34.5          4         100.0          ?  2320.0          15.8     81   \n",
       "374  23.0          4         151.0          ?  3035.0          20.5     82   \n",
       "\n",
       "     origin              car_name  \n",
       "32        1            ford pinto  \n",
       "126       1         ford maverick  \n",
       "330       2  renault lecar deluxe  \n",
       "336       1    ford mustang cobra  \n",
       "354       2           renault 18i  \n",
       "374       1        amc concord dl  "
      ]
     },
     "execution_count": 11,
     "metadata": {},
     "output_type": "execute_result"
    }
   ],
   "source": [
    "# Check out the six bad values of horsepower\n",
    "cars[conv.isna()]\n",
    "# making a mask of conv.isna(), will show cars data where horsepower is NaN\n",
    "# take this column, that's previously coerced, now show me all the NaN"
   ]
  },
  {
   "cell_type": "code",
   "execution_count": null,
   "metadata": {},
   "outputs": [],
   "source": [
    "#let pandas do the heavy lifting for you. \n",
    "#optional arguments on read_csv let you deal with missing values"
   ]
  },
  {
   "cell_type": "code",
   "execution_count": null,
   "metadata": {},
   "outputs": [],
   "source": []
  },
  {
   "cell_type": "code",
   "execution_count": null,
   "metadata": {},
   "outputs": [],
   "source": [
    "#Let's start over!!"
   ]
  },
  {
   "cell_type": "code",
   "execution_count": 12,
   "metadata": {},
   "outputs": [
    {
     "name": "stdout",
     "output_type": "stream",
     "text": [
      "<class 'pandas.core.frame.DataFrame'>\n",
      "RangeIndex: 398 entries, 0 to 397\n",
      "Data columns (total 9 columns):\n",
      " #   Column        Non-Null Count  Dtype  \n",
      "---  ------        --------------  -----  \n",
      " 0   mpg           398 non-null    float64\n",
      " 1   cylinders     398 non-null    int64  \n",
      " 2   displacement  398 non-null    float64\n",
      " 3   horsepower    392 non-null    float64\n",
      " 4   weight        398 non-null    float64\n",
      " 5   acceleration  398 non-null    float64\n",
      " 6   model         398 non-null    int64  \n",
      " 7   origin        398 non-null    int64  \n",
      " 8   car_name      398 non-null    object \n",
      "dtypes: float64(5), int64(3), object(1)\n",
      "memory usage: 28.1+ KB\n"
     ]
    }
   ],
   "source": [
    "# Reload the data, but now tell pandas to treat '?' as missing\n",
    "#Notice that Horsepower is now a numeric column with six missing values.\n",
    "cars = pd.read_csv('DATA/cars_multivariate.csv', na_values=['?'])\n",
    "\n",
    "cars.info()"
   ]
  },
  {
   "cell_type": "code",
   "execution_count": 13,
   "metadata": {},
   "outputs": [
    {
     "name": "stdout",
     "output_type": "stream",
     "text": [
      "<class 'pandas.core.frame.DataFrame'>\n",
      "Int64Index: 392 entries, 0 to 397\n",
      "Data columns (total 9 columns):\n",
      " #   Column        Non-Null Count  Dtype  \n",
      "---  ------        --------------  -----  \n",
      " 0   mpg           392 non-null    float64\n",
      " 1   cylinders     392 non-null    int64  \n",
      " 2   displacement  392 non-null    float64\n",
      " 3   horsepower    392 non-null    float64\n",
      " 4   weight        392 non-null    float64\n",
      " 5   acceleration  392 non-null    float64\n",
      " 6   model         392 non-null    int64  \n",
      " 7   origin        392 non-null    int64  \n",
      " 8   car_name      392 non-null    object \n",
      "dtypes: float64(5), int64(3), object(1)\n",
      "memory usage: 30.6+ KB\n"
     ]
    }
   ],
   "source": [
    "# Look at the dataset and drop rows where horsepower is notna\n",
    "\n",
    "cars[cars.horsepower.notna()].info()\n",
    "# above, there were still 398 rows, but horsepower only had 392. This changes all rows to 392 by dropping using: .notna()"
   ]
  },
  {
   "cell_type": "code",
   "execution_count": 14,
   "metadata": {},
   "outputs": [
    {
     "name": "stdout",
     "output_type": "stream",
     "text": [
      "<class 'pandas.core.frame.DataFrame'>\n",
      "Int64Index: 392 entries, 0 to 397\n",
      "Data columns (total 9 columns):\n",
      " #   Column        Non-Null Count  Dtype  \n",
      "---  ------        --------------  -----  \n",
      " 0   mpg           392 non-null    float64\n",
      " 1   cylinders     392 non-null    int64  \n",
      " 2   displacement  392 non-null    float64\n",
      " 3   horsepower    392 non-null    float64\n",
      " 4   weight        392 non-null    float64\n",
      " 5   acceleration  392 non-null    float64\n",
      " 6   model         392 non-null    int64  \n",
      " 7   origin        392 non-null    int64  \n",
      " 8   car_name      392 non-null    object \n",
      "dtypes: float64(5), int64(3), object(1)\n",
      "memory usage: 30.6+ KB\n"
     ]
    }
   ],
   "source": [
    "#From here forward, we'll just drop those six rows with no horsepower data\n",
    "cars = cars[cars.horsepower.notna()]\n",
    "cars.info()\n",
    "# this will change the original dataframe, but you can still get the full dataframe from the original file"
   ]
  },
  {
   "cell_type": "code",
   "execution_count": 15,
   "metadata": {},
   "outputs": [
    {
     "data": {
      "text/plain": [
       "73    40\n",
       "78    36\n",
       "76    34\n",
       "82    30\n",
       "75    30\n",
       "79    29\n",
       "70    29\n",
       "81    28\n",
       "77    28\n",
       "72    28\n",
       "80    27\n",
       "71    27\n",
       "74    26\n",
       "Name: model, dtype: int64"
      ]
     },
     "execution_count": 15,
     "metadata": {},
     "output_type": "execute_result"
    }
   ],
   "source": [
    "# What about origin? model?\n",
    "#cars.origin.value_counts()\n",
    "cars['model'].value_counts()"
   ]
  },
  {
   "cell_type": "code",
   "execution_count": 16,
   "metadata": {},
   "outputs": [
    {
     "name": "stdout",
     "output_type": "stream",
     "text": [
      "<class 'pandas.core.frame.DataFrame'>\n",
      "Int64Index: 392 entries, 0 to 397\n",
      "Data columns (total 9 columns):\n",
      " #   Column        Non-Null Count  Dtype  \n",
      "---  ------        --------------  -----  \n",
      " 0   mpg           392 non-null    float64\n",
      " 1   cylinders     392 non-null    int64  \n",
      " 2   displacement  392 non-null    float64\n",
      " 3   horsepower    392 non-null    float64\n",
      " 4   weight        392 non-null    float64\n",
      " 5   acceleration  392 non-null    float64\n",
      " 6   model         392 non-null    object \n",
      " 7   origin        392 non-null    object \n",
      " 8   car_name      392 non-null    object \n",
      "dtypes: float64(5), int64(1), object(3)\n",
      "memory usage: 30.6+ KB\n"
     ]
    }
   ],
   "source": [
    "cars['origin'] = cars['origin'].astype(str)\n",
    "cars['model'] = cars['model'].astype(str)\n",
    "cars.info()"
   ]
  },
  {
   "cell_type": "markdown",
   "metadata": {},
   "source": [
    "Our data set has 5-6 numeric variables and 3-4 categorical variables (cylinders is kind of a wild card). Sometimes it is good to keep track of these:"
   ]
  },
  {
   "cell_type": "code",
   "execution_count": null,
   "metadata": {},
   "outputs": [],
   "source": [
    "numeric_vars = ['mpg','displacement','horsepower','weight','acceleration']\n",
    "categorical_vars = ['model', 'origin', 'cylinders','car_name']"
   ]
  },
  {
   "cell_type": "markdown",
   "metadata": {},
   "source": [
    "## More Exploration"
   ]
  },
  {
   "cell_type": "markdown",
   "metadata": {},
   "source": [
    "### Univariate-Numeric Viz"
   ]
  },
  {
   "cell_type": "code",
   "execution_count": null,
   "metadata": {},
   "outputs": [],
   "source": [
    "# Histograms\n",
    "ax = cars[numeric_vars].hist(bins=10)\n",
    "plt.tight_layout()"
   ]
  },
  {
   "cell_type": "code",
   "execution_count": null,
   "metadata": {
    "scrolled": true
   },
   "outputs": [],
   "source": [
    "# Boxplots - visualize the minimum, \n",
    "#first quartile, median, third quartile, and maximum\n",
    "\n",
    "cars[numeric_vars].plot(kind='box')"
   ]
  },
  {
   "cell_type": "code",
   "execution_count": null,
   "metadata": {},
   "outputs": [],
   "source": [
    "# To better visualize the boxplots, let's plot them one at a time.\n",
    "fig, axes = plt.subplots(3,2)\n",
    "for ax, var in zip(axes.ravel(), num_vars):\n",
    "    ax.boxplot(cars[var])\n",
    "    ax.set_title(var)\n",
    "plt.tight_layout()"
   ]
  },
  {
   "cell_type": "markdown",
   "metadata": {},
   "source": [
    "### Univariate - Categorical"
   ]
  },
  {
   "cell_type": "code",
   "execution_count": null,
   "metadata": {},
   "outputs": [],
   "source": [
    "# Categorical\n",
    "agg = cars.groupby('origin').apply(len)\n",
    "agg.plot(kind='bar').set_ylabel('frequency')"
   ]
  },
  {
   "cell_type": "code",
   "execution_count": null,
   "metadata": {},
   "outputs": [],
   "source": [
    "# Categorical vs Numeric\n",
    "agg = cars.groupby('origin')['mpg'].mean()\n",
    "agg.plot(kind='bar').set_ylabel('average mpg')"
   ]
  },
  {
   "cell_type": "markdown",
   "metadata": {},
   "source": [
    "### Numeric vs Numeric"
   ]
  },
  {
   "cell_type": "code",
   "execution_count": null,
   "metadata": {},
   "outputs": [],
   "source": [
    "# Scatterplot matrix\n",
    "from pandas.tools.plotting import scatter_matrix\n",
    "fig, ax = plt.subplots(1, 1, figsize=(10, 10))\n",
    "ax = scatter_matrix(cars[num_vars], ax=ax, diagonal='kde')"
   ]
  },
  {
   "cell_type": "code",
   "execution_count": null,
   "metadata": {},
   "outputs": [],
   "source": [
    "# Use binning to see relationships more clearly\n",
    "cars['binned_acceleration'] = pd.cut(cars.acceleration, bins=7)\n",
    "agg = cars.groupby('binned_acceleration')['mpg'].mean()\n",
    "agg.plot(kind='bar').set_ylabel('average mpg')"
   ]
  },
  {
   "cell_type": "code",
   "execution_count": null,
   "metadata": {},
   "outputs": [],
   "source": [
    "# Scatter plot by category\n",
    "origins = cars['origin'].unique()\n",
    "for origin in origins:\n",
    "    plt.plot(cars.loc[cars.origin==origin,'acceleration'], \n",
    "             cars.loc[cars.origin==origin,'mpg'], \n",
    "             linestyle='',\n",
    "             marker='o',\n",
    "             alpha=.7,\n",
    "             label=\"origin=\"+origin)\n",
    "plt.xlabel('acceleration')\n",
    "plt.ylabel('mpg')\n",
    "plt.legend(numpoints=1)"
   ]
  },
  {
   "cell_type": "code",
   "execution_count": null,
   "metadata": {},
   "outputs": [],
   "source": [
    "# Categorical vs Categorical\n",
    "pd.crosstab(cars['origin'], cars['model'])"
   ]
  },
  {
   "cell_type": "markdown",
   "metadata": {},
   "source": [
    "Aha! Model means model year --- we probably should have left this as numeric"
   ]
  },
  {
   "cell_type": "code",
   "execution_count": null,
   "metadata": {},
   "outputs": [],
   "source": [
    "# Heat-map\n",
    "import seaborn as sns\n",
    "\n",
    "agg = cars.groupby(['origin','model'])['mpg'].mean()\n",
    "ax = sns.heatmap(agg.unstack(level='model'), annot=True)\n",
    "ax.set_title('MPG by origin and model year')"
   ]
  },
  {
   "cell_type": "markdown",
   "metadata": {},
   "source": [
    "## Linear Regression"
   ]
  },
  {
   "cell_type": "code",
   "execution_count": null,
   "metadata": {},
   "outputs": [],
   "source": [
    "# Single variable regression\n",
    "cars.plot('weight','mpg',kind='scatter')"
   ]
  },
  {
   "cell_type": "markdown",
   "metadata": {},
   "source": [
    "Linear regression is just the fancy term for finding the line of best fit. If I was going to eyeball it from this data, I would draw the line from (1000,40) through (5500,5).\n",
    "\n",
    "In other words, we are looking for the slope and intercept that defines a line that fits the data as well as possible.\n",
    "\n",
    "'As well as possible' means that we are trying to minimize the mean-squared-error"
   ]
  },
  {
   "cell_type": "code",
   "execution_count": null,
   "metadata": {},
   "outputs": [],
   "source": [
    "# Make a guess at the line of best fit\n",
    "first_point = [1000,45]\n",
    "second_point = [5500, 0]\n",
    "\n",
    "# Solve \n",
    "def get_line_equation(p1, p2):\n",
    "    \"\"\"\n",
    "    Solve the system of equations:\n",
    "    y1 = m*x1 + b\n",
    "    y2 = m*x2 + b\n",
    "    \n",
    "    Input:\n",
    "    p1: first point [x1, y1]\n",
    "    p2: second point [x2, y2]\n",
    "    \n",
    "    returns: slope, intercept\n",
    "    \"\"\"\n",
    "    X = [[p1[0], 1], [p2[0], 1]]\n",
    "    y = [[p1[1]], [p2[1]]]\n",
    "    soln = np.linalg.solve(X,y)\n",
    "    return  soln[0][0], soln[1][0]\n",
    "\n",
    "slope, intercept = get_line_equation(first_point, second_point)\n",
    "\n",
    "print(slope, intercept)\n",
    "\n",
    "# Plot the line along with the data\n",
    "ax = cars.plot('weight','mpg',kind='scatter')\n",
    "xx = np.linspace(1000, 5500, 100)\n",
    "ax.plot(xx, xx*slope + intercept, color='red', lw=3)\n",
    "ax.set_xlim([1000,5500])"
   ]
  },
  {
   "cell_type": "markdown",
   "metadata": {},
   "source": [
    "How can we measure the error? The typical choice is to use mean squared error. The error for a given data point is the difference between the observed value and the predicted value\n",
    "$$\n",
    "MSE := \\frac{1}{n} \\sum_{i=1}^n (y_i - (mx_i + b))^2\n",
    "$$\n"
   ]
  },
  {
   "cell_type": "code",
   "execution_count": null,
   "metadata": {},
   "outputs": [],
   "source": [
    "# Mean Squared Error\n",
    "\n",
    "def mean_squared_error(X, y, m, b):\n",
    "    \"\"\"\n",
    "    Compute the mean squared error, on the data (X,y), \n",
    "    of the model defined by slope m, and intercept b.\n",
    "    \"\"\"\n",
    "    pred = X*m + b\n",
    "    error = y - pred\n",
    "    mse = np.mean(error**2)\n",
    "    return mse\n",
    "\n",
    "mean_squared_error(cars['weight'], cars['mpg'], slope, intercept)"
   ]
  },
  {
   "cell_type": "markdown",
   "metadata": {},
   "source": [
    "## R-Squared\n",
    "\n",
    "Mean squared error is a good error metric, but it is not comparable across different data sets. For this we use a scaled version called $R^2$. \n",
    "\\begin{align}\n",
    "    R^2 &:= 1 - \\frac{SS_{res}}{SS_{tot}} \\\\\n",
    "    &= 1 - \\frac{\\sum_{i=1}^n (y_i - (mx_i + b))^2}{\\sum_{i=1}^n (y_i - \\bar{y})^2}\n",
    "\\end{align}    \n",
    "\n",
    "Where $SS_{res}$ is the sum of the squared residuals and $SS_{tot}$ is the total sum of squares. $R^2$ can be interpreted as the fraction of the variance in the data that is explained by the model.\n",
    "\n",
    "$R^2$ will be between 0 and 1. 0 means that your model explains none of the variance in the data, while 1 means your model explains all of the variance in the data. The higher $R^2$, the better!"
   ]
  },
  {
   "cell_type": "code",
   "execution_count": null,
   "metadata": {},
   "outputs": [],
   "source": [
    "# Calculate r-squared\n",
    "\n",
    "def r_squared(X, y, m, b):\n",
    "    \"\"\"\n",
    "    Compute the r-squared, on the data (X,y), \n",
    "    of the model defined by slope m, and intercept b.\n",
    "    \"\"\"\n",
    "    pred = X*m + b\n",
    "    resid = y - pred\n",
    "    rsquared = 1 - np.sum(resid**2)/np.sum((y-y.mean())**2)\n",
    "    return rsquared\n",
    "\n",
    "r_squared(cars['weight'], cars['mpg'], slope, intercept)\n",
    "    "
   ]
  },
  {
   "cell_type": "markdown",
   "metadata": {},
   "source": [
    "## Ordinary least squares\n",
    "It turns out that we can find the slope and intercept which *minimize* the mean squared error, using a procedure called ordinary least squares\n",
    "\n",
    "Ordinary least squares is implemented in the *statsmodels* package. The advantage of *statsmodels* is that we also have access to a number of *regression diagnostics* that help us understand if this model might be good for UNDERSTANDING as well as PREDICTION."
   ]
  },
  {
   "cell_type": "code",
   "execution_count": null,
   "metadata": {},
   "outputs": [],
   "source": [
    "'''\n",
    "Recall that the form of a straight line is y = m * x + b. \n",
    "Statsmodels will compute m by default for your regression. \n",
    "But (don't ask) it DOES NOT COMPUTE b by default. It omits 'b'!!!!!!!!\n",
    "If 'b' is omitted, that implies b = 0, so the line must pass through the origin (0,0)! \n",
    "\n",
    "You almost never want b=0 when you do a regression.\n",
    "So, to force statsmodels to compute both 'm' and 'b', you must use the sm.add_constant function on your predictors (x)\n",
    "'''\n",
    "\n",
    "import statsmodels.api as sm\n",
    "#for example, let's do a regression of weight (predictor) versus mpg(target output)\n",
    "X = pd.DataFrame({'weight' : cars['weight']})\n"
   ]
  },
  {
   "cell_type": "code",
   "execution_count": null,
   "metadata": {},
   "outputs": [],
   "source": [
    "X"
   ]
  },
  {
   "cell_type": "code",
   "execution_count": null,
   "metadata": {},
   "outputs": [],
   "source": [
    "#now we need to change our predictor matrix X to tell statsmodels to also calculate the intercept 'b'\n",
    "# To do that, we need to add a column of ones to our data (why? see definition of matrix multiplication)\n",
    "X = sm.add_constant(X)\n",
    "X\n"
   ]
  },
  {
   "cell_type": "code",
   "execution_count": null,
   "metadata": {},
   "outputs": [],
   "source": [
    "#so, all together now. let's do a regression of weight (predictor) versus mpg(target output)\n",
    "import statsmodels.api as sm\n",
    "X = pd.DataFrame({'weight' : cars['weight']})\n",
    "X = sm.add_constant(X) # as described above, this line forces statsmodels to solve for both 'm' and 'b'!\n",
    "y = cars['mpg']\n",
    "\n",
    "# Use statsmodels to create a linear regression object\n",
    "regressor = sm.OLS(y,X)\n",
    "regressor = regressor.fit()\n",
    "regressor.summary()"
   ]
  },
  {
   "cell_type": "code",
   "execution_count": null,
   "metadata": {},
   "outputs": [],
   "source": [
    "#check out that summary!!!!\n",
    "#if you Google \"what does the ols output from statsmodels mean\", you will go down a rabbit hole \n",
    "\n",
    "# https://datatofish.com/statsmodels-linear-regression/\n",
    "# https://blog.datarobot.com/ordinary-least-squares-in-python\n",
    "# https://python.quantecon.org/ols.html\n",
    "# https://heartbeat.fritz.ai/implementing-ordinary-least-squares-ols-using-statsmodels-in-python-b1f4dee09419"
   ]
  },
  {
   "cell_type": "code",
   "execution_count": null,
   "metadata": {},
   "outputs": [],
   "source": []
  },
  {
   "cell_type": "code",
   "execution_count": null,
   "metadata": {},
   "outputs": [],
   "source": [
    "dir(regressor)"
   ]
  },
  {
   "cell_type": "markdown",
   "metadata": {},
   "source": [
    "## Model Diagnostics\n",
    "\n",
    "**coef** - The values of the coefficients in the model\n",
    "\n",
    "**$P>|t|$** - The p-value of the null hypothesis that a specific parameter is zero.\n",
    "\n",
    "**R-Squared** - Proportion of variance explained by the model. Measured on a scale from 0 (bad) to 1 (good)\n",
    "\n",
    "**Prob (F-statistic)** - p-value of the F-statistic. This is the probability of the null hypothesis that *all parameters in the model are zero*"
   ]
  },
  {
   "cell_type": "code",
   "execution_count": null,
   "metadata": {},
   "outputs": [],
   "source": [
    "# Plot the line along with the data\n",
    "slope = -.0076\n",
    "intercept = 46.2165\n",
    "ax = cars.plot('weight','mpg',kind='scatter')\n",
    "xx = np.linspace(1000, 5500, 100)\n",
    "ax.plot(xx, xx*slope + intercept, color='red', lw=3)\n",
    "ax.set_xlim([1000,5500])"
   ]
  },
  {
   "cell_type": "markdown",
   "metadata": {},
   "source": [
    "This line is a better fit than our original guess. We can tell because its $R^2$ is higher, meaning it explains the mpg's variance better. The MSE of this fit will be lower (better) than our original guess as well."
   ]
  },
  {
   "cell_type": "code",
   "execution_count": null,
   "metadata": {},
   "outputs": [],
   "source": [
    "# use weight-squared as a new column"
   ]
  },
  {
   "cell_type": "code",
   "execution_count": null,
   "metadata": {},
   "outputs": [],
   "source": [
    "import statsmodels.api as sm\n",
    "X = pd.DataFrame({'weight' : cars['weight']})\n",
    "X = sm.add_constant(X)\n",
    "y = cars['mpg']"
   ]
  },
  {
   "cell_type": "code",
   "execution_count": null,
   "metadata": {},
   "outputs": [],
   "source": [
    "X['weight-squared'] = X['weight'].apply(lambda x: x*x) #explicitly makes new column"
   ]
  },
  {
   "cell_type": "code",
   "execution_count": null,
   "metadata": {},
   "outputs": [],
   "source": [
    "X"
   ]
  },
  {
   "cell_type": "code",
   "execution_count": null,
   "metadata": {},
   "outputs": [],
   "source": []
  },
  {
   "cell_type": "code",
   "execution_count": null,
   "metadata": {},
   "outputs": [],
   "source": [
    "#Linear Regression of MPG against Weight\n",
    "import statsmodels.api as sm\n",
    "X = pd.DataFrame({'weight' : cars['weight']})\n",
    "X = sm.add_constant(X) # as described above, this line forces statsmodels to solve for both 'm' and 'b'!\n",
    "y = cars['mpg']\n",
    "\n",
    "# Use statsmodels to create a linear regression object\n",
    "regressor = sm.OLS(y,X)\n",
    "regressor = regressor.fit()\n",
    "regressor.summary()"
   ]
  },
  {
   "cell_type": "markdown",
   "metadata": {},
   "source": [
    "# TASK: Made a model that depends does a linear regression of mpg against Weight and weight ^2"
   ]
  },
  {
   "cell_type": "code",
   "execution_count": null,
   "metadata": {},
   "outputs": [],
   "source": [
    "#solution 1 - #explicitly makes new column in X\n",
    "\n",
    "import statsmodels.api as sm\n",
    "X = pd.DataFrame({'weight' : cars['weight']})\n",
    "X = sm.add_constant(X)\n",
    "y = cars['mpg']\n",
    "X['weight-squared'] = X['weight'].apply(lambda x: x*x) \n",
    "regressor = sm.OLS(y,X)\n",
    "regressor = regressor.fit()\n",
    "regressor.summary()"
   ]
  },
  {
   "cell_type": "code",
   "execution_count": null,
   "metadata": {},
   "outputs": [],
   "source": [
    "#Solution #2  - Using code from insects.ipynb as a model\n",
    "\n",
    "import statsmodels.formula.api as smf\n",
    "X = pd.DataFrame({'weight' : cars['weight'], 'mpg': cars['mpg']})\n",
    "linear_model = smf.ols(formula='mpg ~ weight + I(weight**2)',\n",
    "                       data=X)\n",
    "fitted_model = linear_model.fit()\n",
    "fitted_model.summary()"
   ]
  },
  {
   "cell_type": "code",
   "execution_count": null,
   "metadata": {},
   "outputs": [],
   "source": [
    "#go back to cars\n",
    "cars = cars[cars.horsepower.notna()]\n",
    "cars.info()"
   ]
  },
  {
   "cell_type": "code",
   "execution_count": null,
   "metadata": {},
   "outputs": [],
   "source": [
    "linear_model = smf.ols(formula='mpg ~ cylinders + displacement + horsepower + weight + acceleration + model + origin',\n",
    "                       data=cars)\n",
    "\n",
    "fitted_model = linear_model.fit()\n",
    "fitted_model.summary()"
   ]
  },
  {
   "cell_type": "code",
   "execution_count": null,
   "metadata": {},
   "outputs": [],
   "source": [
    "#acceleration\n",
    "linear_model = smf.ols(formula='mpg ~  acceleration',\n",
    "                       data=cars)\n",
    "\n",
    "fitted_model = linear_model.fit()\n",
    "fitted_model.summary()"
   ]
  },
  {
   "cell_type": "code",
   "execution_count": null,
   "metadata": {},
   "outputs": [],
   "source": [
    "linear_model = smf.ols(formula='mpg ~ cylinders + displacement + horsepower + weight + model + origin',\n",
    "                       data=cars)\n",
    "\n",
    "fitted_model = linear_model.fit()\n",
    "fitted_model.summary()"
   ]
  },
  {
   "cell_type": "code",
   "execution_count": null,
   "metadata": {},
   "outputs": [],
   "source": [
    "linear_model = smf.ols(formula='mpg ~ displacement + horsepower + weight + acceleration + model + origin',\n",
    "                       data=cars)\n",
    "\n",
    "fitted_model = linear_model.fit()\n",
    "fitted_model.summary()"
   ]
  },
  {
   "cell_type": "markdown",
   "metadata": {},
   "source": [
    "### NOTE: ABOVE I DID NOT EXPLICITLY USE THE CATEGORICAL VARIABLES AS CATEGORICAL. I WILL DO SO HERE!"
   ]
  },
  {
   "cell_type": "code",
   "execution_count": null,
   "metadata": {},
   "outputs": [],
   "source": [
    "numeric_vars = ['mpg','displacement','horsepower','weight','acceleration']\n",
    "categorical_vars = ['model', 'origin', 'cylinders']"
   ]
  },
  {
   "cell_type": "code",
   "execution_count": null,
   "metadata": {},
   "outputs": [],
   "source": [
    "#use all the variables and explicitly mark the categorical ones in the with C()\n",
    "# also restored the weight**2 term in the model\n",
    "\n",
    "import pandas as pd\n",
    "import statsmodels.formula.api as smf\n",
    "\n",
    "cars = pd.read_csv('DATA/cars_multivariate.csv',na_values=['?'])\n",
    "cars = cars[cars.horsepower.notna()]\n",
    "\n",
    "formula = 'mpg ~ displacement + horsepower + weight + I(weight**2) +acceleration  + C(origin) + C(cylinders) + C(model)'\n",
    "linear_model = smf.ols(formula=formula, data=cars)\n",
    "fitted_model = linear_model.fit()\n",
    "fitted_model.summary()"
   ]
  },
  {
   "cell_type": "markdown",
   "metadata": {},
   "source": [
    "## Note that when you tell statsmodels that something is a categorial variable, it makes multiple dummy variables out of it!\n"
   ]
  },
  {
   "cell_type": "code",
   "execution_count": null,
   "metadata": {},
   "outputs": [],
   "source": []
  }
 ],
 "metadata": {
  "kernelspec": {
   "display_name": "Python 3",
   "language": "python",
   "name": "python3"
  },
  "language_info": {
   "codemirror_mode": {
    "name": "ipython",
    "version": 3
   },
   "file_extension": ".py",
   "mimetype": "text/x-python",
   "name": "python",
   "nbconvert_exporter": "python",
   "pygments_lexer": "ipython3",
   "version": "3.7.7"
  },
  "toc": {
   "base_numbering": 1,
   "nav_menu": {},
   "number_sections": true,
   "sideBar": true,
   "skip_h1_title": false,
   "title_cell": "Table of Contents",
   "title_sidebar": "Contents",
   "toc_cell": false,
   "toc_position": {},
   "toc_section_display": true,
   "toc_window_display": false
  }
 },
 "nbformat": 4,
 "nbformat_minor": 2
}
